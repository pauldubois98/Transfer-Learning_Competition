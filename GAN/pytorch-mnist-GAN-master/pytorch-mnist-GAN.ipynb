{
 "cells": [
  {
   "cell_type": "markdown",
   "metadata": {},
   "source": [
    "# Basic GAN\n",
    "---"
   ]
  },
  {
   "cell_type": "markdown",
   "metadata": {},
   "source": [
    "Check that we don't have python 3.10.2 (otherwise PyTorch won't work)"
   ]
  },
  {
   "cell_type": "code",
   "execution_count": 1,
   "metadata": {},
   "outputs": [
    {
     "name": "stdout",
     "output_type": "stream",
     "text": [
      "3.9.7 (default, Sep 16 2021, 13:09:58) \n",
      "[GCC 7.5.0]\n"
     ]
    }
   ],
   "source": [
    "import sys\n",
    "print(sys.version)"
   ]
  },
  {
   "cell_type": "markdown",
   "metadata": {},
   "source": [
    "---\n",
    "Imports"
   ]
  },
  {
   "cell_type": "code",
   "execution_count": 2,
   "metadata": {},
   "outputs": [
    {
     "name": "stdout",
     "output_type": "stream",
     "text": [
      "True\n"
     ]
    },
    {
     "data": {
      "text/plain": [
       "<torch.autograd.anomaly_mode.set_detect_anomaly at 0x2b8ed82210d0>"
      ]
     },
     "execution_count": 2,
     "metadata": {},
     "output_type": "execute_result"
    }
   ],
   "source": [
    "# Imports\n",
    "import math\n",
    "import torch\n",
    "import torch.nn as nn\n",
    "import torch.nn.functional as F\n",
    "import torch.optim as optim\n",
    "from torchvision import datasets, transforms\n",
    "from torch.autograd import Variable\n",
    "from torchvision.utils import save_image\n",
    "\n",
    "# Device configuration\n",
    "print(torch.cuda.is_available())\n",
    "device = torch.device('cuda' if torch.cuda.is_available() else 'cpu')\n",
    "torch.autograd.set_detect_anomaly(True)"
   ]
  },
  {
   "cell_type": "code",
   "execution_count": 3,
   "metadata": {},
   "outputs": [],
   "source": [
    "import time\n",
    "\n",
    "start_time = time.time()"
   ]
  },
  {
   "cell_type": "markdown",
   "metadata": {},
   "source": [
    "---\n",
    "Hyperparameters\n",
    "- bs = batch size\n",
    "- lr = learning rate"
   ]
  },
  {
   "cell_type": "code",
   "execution_count": 4,
   "metadata": {},
   "outputs": [],
   "source": [
    "bs = 100\n",
    "learning_rate_g = 0.0002 \n",
    "learning_rate_d = 0.0002\n",
    "threshold_no_train = 0.1\n",
    "dropout_generator = 0.3\n",
    "dropout_discriminator = 0.3\n",
    "double_dropout_generator = False"
   ]
  },
  {
   "cell_type": "markdown",
   "metadata": {},
   "source": [
    "---\n",
    "Loading the dataset"
   ]
  },
  {
   "cell_type": "code",
   "execution_count": 5,
   "metadata": {},
   "outputs": [
    {
     "name": "stdout",
     "output_type": "stream",
     "text": [
      "Size train_dataset: 60000\n",
      "tensor(-0.4242)\n",
      "tensor(2.8215)\n",
      "Size train_dataset: 10000\n"
     ]
    }
   ],
   "source": [
    "# MNIST Dataset\n",
    "transform = transforms.Compose([\n",
    "     transforms.ToTensor(),\n",
    "     transforms.Normalize((0.1307,), (0.3081,))])\n",
    "# the output of torchvision datasets are PILImage images of range [0, 1] and we \n",
    "# want data that is centered around 0 with a std of 1 (0.1307 and 0.3081 are the estimated values of the MNIST mean & std)\n",
    "\n",
    "train_dataset = datasets.MNIST(root='./mnist_data/', train=True, transform=transform, download=True)\n",
    "print(f\"Size train_dataset: {len(train_dataset)}\")\n",
    "min_value_dataset = float('inf')\n",
    "max_value_dataset = -float('inf')\n",
    "for image_idx in range(len(train_dataset)):\n",
    "    min_value_dataset = min(train_dataset[image_idx][0].min(), min_value_dataset)\n",
    "    max_value_dataset = max(train_dataset[image_idx][0].max(), max_value_dataset)\n",
    "print(min_value_dataset)\n",
    "print(max_value_dataset)\n",
    "\n",
    "test_dataset = datasets.MNIST(root='./mnist_data/', train=False, transform=transform, download=True)\n",
    "print(f\"Size train_dataset: {len(test_dataset)}\")\n",
    "\n",
    "# Data Loader (Input Pipeline)\n",
    "train_loader = torch.utils.data.DataLoader(dataset=train_dataset, batch_size=bs, shuffle=True)\n",
    "test_loader = torch.utils.data.DataLoader(dataset=test_dataset, batch_size=bs, shuffle=False)"
   ]
  },
  {
   "cell_type": "markdown",
   "metadata": {},
   "source": [
    "\n",
    "---\n",
    "\n",
    "Generator & discriminator"
   ]
  },
  {
   "cell_type": "code",
   "execution_count": 6,
   "metadata": {},
   "outputs": [],
   "source": [
    "# Generator\n",
    "class Generator(nn.Module):\n",
    "    def __init__(self, g_input_dim, g_output_dim):\n",
    "        super(Generator, self).__init__()       \n",
    "        self.fc1 = nn.Linear(g_input_dim, 256)\n",
    "        self.fc2 = nn.Linear(self.fc1.out_features, self.fc1.out_features*2)\n",
    "        self.fc3 = nn.Linear(self.fc2.out_features, self.fc2.out_features*2)\n",
    "        self.fc4 = nn.Linear(self.fc3.out_features, g_output_dim)\n",
    "    \n",
    "    # Forward method\n",
    "    def forward(self, x): \n",
    "        x = F.leaky_relu(self.fc1(x), 0.2)\n",
    "        x = F.dropout(x, dropout_generator)\n",
    "        x = F.leaky_relu(self.fc2(x), 0.2)\n",
    "        if double_dropout_generator:\n",
    "            x = F.dropout(x, dropout_generator)\n",
    "        x = F.leaky_relu(self.fc3(x), 0.2)\n",
    "        x = torch.tanh(self.fc4(x))  # dans [-1; 1]\n",
    "        x = ((min_value_dataset + max_value_dataset) / 2) + ((max_value_dataset - min_value_dataset) / 2) * x\n",
    "        return x  # dans [-min_value_dataset; max_value_dataset]\n",
    "\n",
    "    \n",
    "# Discriminator\n",
    "class Discriminator(nn.Module):\n",
    "    def __init__(self, d_input_dim):\n",
    "        super(Discriminator, self).__init__()\n",
    "        self.fc1 = nn.Linear(d_input_dim, 1024)\n",
    "        self.fc2 = nn.Linear(self.fc1.out_features, self.fc1.out_features//2)\n",
    "        self.fc3 = nn.Linear(self.fc2.out_features, self.fc2.out_features//2)\n",
    "        self.fc4 = nn.Linear(self.fc3.out_features, 1)\n",
    "    \n",
    "    # Forward method\n",
    "    def forward(self, x):\n",
    "        x = F.leaky_relu(self.fc1(x), 0.2)\n",
    "        x = F.dropout(x, dropout_discriminator)\n",
    "        x = F.leaky_relu(self.fc2(x), 0.2)\n",
    "        x = F.dropout(x, dropout_discriminator)\n",
    "        x = F.leaky_relu(self.fc3(x), 0.2)\n",
    "        x = F.dropout(x, dropout_discriminator)\n",
    "        return torch.sigmoid(self.fc4(x)) # output dans [0; 1]"
   ]
  },
  {
   "cell_type": "code",
   "execution_count": 7,
   "metadata": {},
   "outputs": [
    {
     "name": "stdout",
     "output_type": "stream",
     "text": [
      "latent space dimension: 100\n",
      "drawings dimension: 784\n",
      "28*28 = 784\n"
     ]
    }
   ],
   "source": [
    "# Build network\n",
    "z_dim = 100  # latent space dimension, input of the generator\n",
    "mnist_dim = train_dataset.data.size(1) * train_dataset.data.size(2)\n",
    "# drawings dimension, output of the generator and input of the discriminator\n",
    "# cf torch_empty_and_tensor_dot_size.py for correct use of the .size method\n",
    "\n",
    "print(f\"latent space dimension: {z_dim}\")\n",
    "print(f\"drawings dimension: {mnist_dim}\")\n",
    "print(f\"28*28 = {28*28}\")\n",
    "\n",
    "G = Generator(g_input_dim = z_dim, g_output_dim = mnist_dim).to(device)\n",
    "D = Discriminator(d_input_dim =  mnist_dim).to(device)"
   ]
  },
  {
   "cell_type": "code",
   "execution_count": 8,
   "metadata": {},
   "outputs": [
    {
     "data": {
      "text/plain": [
       "Generator(\n",
       "  (fc1): Linear(in_features=100, out_features=256, bias=True)\n",
       "  (fc2): Linear(in_features=256, out_features=512, bias=True)\n",
       "  (fc3): Linear(in_features=512, out_features=1024, bias=True)\n",
       "  (fc4): Linear(in_features=1024, out_features=784, bias=True)\n",
       ")"
      ]
     },
     "execution_count": 8,
     "metadata": {},
     "output_type": "execute_result"
    }
   ],
   "source": [
    "G"
   ]
  },
  {
   "cell_type": "code",
   "execution_count": 9,
   "metadata": {},
   "outputs": [
    {
     "data": {
      "text/plain": [
       "Discriminator(\n",
       "  (fc1): Linear(in_features=784, out_features=1024, bias=True)\n",
       "  (fc2): Linear(in_features=1024, out_features=512, bias=True)\n",
       "  (fc3): Linear(in_features=512, out_features=256, bias=True)\n",
       "  (fc4): Linear(in_features=256, out_features=1, bias=True)\n",
       ")"
      ]
     },
     "execution_count": 9,
     "metadata": {},
     "output_type": "execute_result"
    }
   ],
   "source": [
    "D"
   ]
  },
  {
   "cell_type": "code",
   "execution_count": 10,
   "metadata": {},
   "outputs": [],
   "source": [
    "# Loss\n",
    "criterion = nn.BCELoss()\n",
    "\n",
    "# Optimizer\n",
    "G_optimizer = optim.Adam(G.parameters(), lr = learning_rate_g)\n",
    "D_optimizer = optim.Adam(D.parameters(), lr = learning_rate_d)"
   ]
  },
  {
   "cell_type": "code",
   "execution_count": 11,
   "metadata": {},
   "outputs": [],
   "source": [
    "def D_train(x):\n",
    "    \"\"\"\n",
    "    Train the discriminator on 2*bs samples, 1*bs real and 1*bs fake data\n",
    "    :param: x: real data\n",
    "    :return: discriminator loss for the batch, has the discriminator been trained this batch, x_fake (to\n",
    "             train the generator - it'd be computationally heavy to re-generate latent noise and re-applying G(z))\n",
    "    \"\"\"\n",
    "    # train discriminator on real data\n",
    "    x_real, y_real = x.view(-1, mnist_dim), torch.ones(bs, 1)\n",
    "    x_real, y_real = Variable(x_real.to(device)), Variable(y_real.to(device))\n",
    "\n",
    "    D_output = D(x_real)\n",
    "    D_real_loss = criterion(D_output, y_real)\n",
    "    \n",
    "    # train discriminator on fake data\n",
    "    z = Variable(torch.randn(bs, z_dim).to(device))\n",
    "    x_fake, y_fake = G(z), Variable(torch.zeros(bs, 1).to(device))\n",
    "\n",
    "    D_output = D(x_fake)\n",
    "    D_fake_loss = criterion(D_output, y_fake)\n",
    "\n",
    "    # gradient backprop & optimize ONLY D's parameters\n",
    "    D_loss = (D_real_loss + D_fake_loss) / 2\n",
    "    \n",
    "    to_train = D_loss > threshold_no_train\n",
    "    \n",
    "    if to_train:\n",
    "        D_loss.backward(retain_graph = True)  # retain_graph because we are going to use x_fake again\n",
    "        D_optimizer.step()\n",
    "        \n",
    "    return D_loss.data.item(), to_train, x_fake # the item() method extracts the loss’s value as a Python float"
   ]
  },
  {
   "cell_type": "code",
   "execution_count": 12,
   "metadata": {},
   "outputs": [],
   "source": [
    "def G_train(x_fake):\n",
    "    \"\"\"\n",
    "    Train the generator on bs sample\n",
    "    :param: x_fake: G(z) already calculated in D_train\n",
    "    \"\"\"\n",
    "    y = Variable(torch.ones(bs, 1).to(device))\n",
    "    \n",
    "    D_output = D(x_fake)\n",
    "    G_loss = criterion(D_output, y)\n",
    "\n",
    "    # gradient backprop & optimize ONLY G's parameters\n",
    "    G_loss.backward()\n",
    "    G_optimizer.step()\n",
    "        \n",
    "    return G_loss.data.item()  # the item() method extracts the loss’s value as a Python float"
   ]
  },
  {
   "cell_type": "markdown",
   "metadata": {},
   "source": [
    "---\n",
    "Time to initialise everyting"
   ]
  },
  {
   "cell_type": "code",
   "execution_count": 13,
   "metadata": {},
   "outputs": [
    {
     "name": "stdout",
     "output_type": "stream",
     "text": [
      "Initialisation over: 16.25 s\n"
     ]
    }
   ],
   "source": [
    "end_initialise = time.time()\n",
    "print(\"Initialisation over:\", round(end_initialise - start_time, 2), \"s\")"
   ]
  },
  {
   "cell_type": "code",
   "execution_count": null,
   "metadata": {
    "scrolled": true
   },
   "outputs": [
    {
     "name": "stdout",
     "output_type": "stream",
     "text": [
      "[1/200]: loss_d: 0.160, loss_g: 6.027, discriminator trained: 174/600, average epoch time: 28.20 s\n",
      "[2/200]: loss_d: 0.081, loss_g: 4.669, discriminator trained: 10/600, average epoch time: 27.11 s\n",
      "[3/200]: loss_d: 0.073, loss_g: 3.750, discriminator trained: 6/600, average epoch time: 26.66 s\n",
      "[4/200]: loss_d: 0.112, loss_g: 3.880, discriminator trained: 100/600, average epoch time: 26.67 s\n",
      "[5/200]: loss_d: 0.081, loss_g: 4.839, discriminator trained: 141/600, average epoch time: 26.82 s\n",
      "[6/200]: loss_d: 0.093, loss_g: 9.105, discriminator trained: 228/600, average epoch time: 27.09 s\n",
      "[7/200]: loss_d: 0.077, loss_g: 6.943, discriminator trained: 104/600, average epoch time: 27.16 s\n",
      "[8/200]: loss_d: 0.062, loss_g: 5.721, discriminator trained: 70/600, average epoch time: 27.09 s\n",
      "[9/200]: loss_d: 0.046, loss_g: 6.136, discriminator trained: 9/600, average epoch time: 27.01 s\n",
      "[10/200]: loss_d: 0.038, loss_g: 5.741, discriminator trained: 0/600, average epoch time: 26.87 s\n",
      "[11/200]: loss_d: 0.037, loss_g: 5.779, discriminator trained: 1/600, average epoch time: 27.10 s\n",
      "[12/200]: loss_d: 0.047, loss_g: 5.612, discriminator trained: 40/600, average epoch time: 27.06 s\n",
      "[13/200]: loss_d: 0.039, loss_g: 5.006, discriminator trained: 27/600, average epoch time: 27.01 s\n",
      "[14/200]: loss_d: 0.018, loss_g: 5.880, discriminator trained: 1/600, average epoch time: 26.95 s\n",
      "[15/200]: loss_d: 0.019, loss_g: 5.382, discriminator trained: 0/600, average epoch time: 26.87 s\n",
      "[16/200]: loss_d: 0.020, loss_g: 5.377, discriminator trained: 0/600, average epoch time: 26.83 s\n",
      "[17/200]: loss_d: 0.022, loss_g: 4.992, discriminator trained: 0/600, average epoch time: 26.76 s\n",
      "[18/200]: loss_d: 0.022, loss_g: 4.869, discriminator trained: 0/600, average epoch time: 26.69 s\n",
      "[19/200]: loss_d: 0.023, loss_g: 4.825, discriminator trained: 0/600, average epoch time: 26.64 s\n",
      "[20/200]: loss_d: 0.029, loss_g: 4.245, discriminator trained: 0/600, average epoch time: 26.58 s\n"
     ]
    }
   ],
   "source": [
    "n_epoch = 200\n",
    "for epoch in range(1, n_epoch+1):\n",
    "    if epoch % 5 == 1:\n",
    "        with torch.no_grad():\n",
    "            G.eval()\n",
    "            test_z = Variable(torch.randn(bs, z_dim).to(device))\n",
    "            generated = G(test_z)\n",
    "\n",
    "            save_image(generated.view(generated.size(0), 1, 28, 28), './samples/sample_' + str(epoch-1) + '.png')\n",
    "    \n",
    "    G.train()\n",
    "    D_losses, D_was_trained_history, G_losses = [], [], []\n",
    "    for batch_idx, (x, _) in enumerate(train_loader):\n",
    "        # https://stackoverflow.com/questions/48001598/why-do-we-need-to-call-zero-grad-in-pytorch\n",
    "        D.zero_grad()\n",
    "        G.zero_grad()\n",
    "        \n",
    "        D_loss, D_was_trained, x_fake = D_train(x)\n",
    "        D_losses.append(D_loss)\n",
    "        D_was_trained_history.append(D_was_trained)\n",
    "        \n",
    "        G_losses.append(G_train(x_fake))\n",
    "    \n",
    "    \n",
    "    D_was_trained_count = 0\n",
    "    for booleen in D_was_trained_history:\n",
    "        if booleen:\n",
    "            D_was_trained_count += 1\n",
    "    loss_g = torch.mean(torch.FloatTensor(G_losses))\n",
    "    loss_d = torch.mean(torch.FloatTensor(D_losses))\n",
    "\n",
    "    print('[%d/%d]: loss_d: %.3f, loss_g: %.3f, discriminator trained: %d/%d, average epoch time: %.2f s' % (\n",
    "            epoch, n_epoch, loss_d, loss_g, \n",
    "            D_was_trained_count, math.ceil(len(train_dataset)/bs), (time.time()-end_initialise)/epoch))"
   ]
  },
  {
   "cell_type": "markdown",
   "metadata": {},
   "source": [
    "---\n",
    "Save models"
   ]
  },
  {
   "cell_type": "code",
   "execution_count": null,
   "metadata": {},
   "outputs": [],
   "source": [
    "torch.save(G.state_dict(), 'G.pt')\n",
    "torch.save(D.state_dict(), 'D.pt')"
   ]
  },
  {
   "cell_type": "markdown",
   "metadata": {},
   "source": [
    "---\n",
    "Total time to run all the epochs"
   ]
  },
  {
   "cell_type": "code",
   "execution_count": null,
   "metadata": {},
   "outputs": [],
   "source": [
    "print(\"Total time:\", round(time.time() - start_time, 2), \"s\")"
   ]
  },
  {
   "cell_type": "markdown",
   "metadata": {},
   "source": [
    "---\n",
    "Load the model"
   ]
  },
  {
   "cell_type": "code",
   "execution_count": null,
   "metadata": {},
   "outputs": [],
   "source": [
    "G = Generator(g_input_dim = z_dim, g_output_dim = mnist_dim).to(device)\n",
    "G.load_state_dict(torch.load('G.pt'))\n",
    "G.eval()\n",
    "\n",
    "test_z = Variable(torch.randn(bs, z_dim).to(device))\n",
    "generated = G(test_z)\n",
    "save_image(generated.view(generated.size(0), 1, 28, 28), './samples/final.png')"
   ]
  }
 ],
 "metadata": {
  "kernelspec": {
   "display_name": "Python (intercentrale2022)",
   "language": "python",
   "name": "intercentrale2022"
  },
  "language_info": {
   "codemirror_mode": {
    "name": "ipython",
    "version": 3
   },
   "file_extension": ".py",
   "mimetype": "text/x-python",
   "name": "python",
   "nbconvert_exporter": "python",
   "pygments_lexer": "ipython3",
   "version": "3.9.7"
  }
 },
 "nbformat": 4,
 "nbformat_minor": 4
}
